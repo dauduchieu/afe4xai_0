{
  "nbformat": 4,
  "nbformat_minor": 0,
  "metadata": {
    "colab": {
      "provenance": []
    },
    "kernelspec": {
      "name": "python3",
      "display_name": "Python 3"
    },
    "language_info": {
      "name": "python"
    }
  },
  "cells": [
    {
      "cell_type": "code",
      "execution_count": 2,
      "metadata": {
        "colab": {
          "base_uri": "https://localhost:8080/"
        },
        "id": "RUrYibpw1OrZ",
        "outputId": "f70951e0-9d66-47a6-81fc-e7156a375ee6"
      },
      "outputs": [
        {
          "output_type": "stream",
          "name": "stdout",
          "text": [
            "Accuracy: 0.6402\n",
            "              precision    recall  f1-score   support\n",
            "\n",
            "           1     0.7311    0.7773    0.7534       633\n",
            "           2     0.5485    0.7559    0.6357       299\n",
            "           3     0.5675    0.6987    0.6263       385\n",
            "           4     0.6675    0.8295    0.7398       610\n",
            "           5     0.6235    0.3704    0.4648       961\n",
            "\n",
            "    accuracy                         0.6402      2888\n",
            "   macro avg     0.6276    0.6864    0.6440      2888\n",
            "weighted avg     0.6411    0.6402    0.6254      2888\n",
            "\n"
          ]
        }
      ],
      "source": [
        "import pandas as pd\n",
        "from sklearn.metrics import classification_report, accuracy_score\n",
        "\n",
        "df1 = pd.read_csv('/content/drive/MyDrive/medical-tc/test_part1_predicted.csv')\n",
        "df2 = pd.read_csv('/content/drive/MyDrive/medical-tc/test_part2_predicted.csv')\n",
        "df3 = pd.read_csv('/content/drive/MyDrive/medical-tc/test_part3_predicted.csv')\n",
        "df4 = pd.read_csv('/content/drive/MyDrive/medical-tc/test_part4_predicted.csv')\n",
        "\n",
        "df = pd.concat([df1, df2, df3, df4], ignore_index=True)\n",
        "\n",
        "y_true = df['condition_label']\n",
        "y_pred = df['gemini']\n",
        "\n",
        "accuracy = accuracy_score(y_true, y_pred)\n",
        "print(f'Accuracy: {accuracy:.4f}')\n",
        "\n",
        "report = classification_report(y_true, y_pred, digits=4)\n",
        "print(report)"
      ]
    },
    {
      "cell_type": "code",
      "source": [
        "df.to_csv('LLM_zero_shot.csv', index=False)"
      ],
      "metadata": {
        "id": "aKPP_Nbf3VOP"
      },
      "execution_count": 3,
      "outputs": []
    }
  ]
}